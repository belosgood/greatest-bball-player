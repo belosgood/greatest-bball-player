{
 "cells": [
  {
   "cell_type": "markdown",
   "metadata": {},
   "source": [
    "# Project01\n",
    "\n",
    "Jen Lee & Isabel Osgood"
   ]
  },
  {
   "cell_type": "markdown",
   "metadata": {},
   "source": [
    "## Experiment Objective\n",
    "\n",
    "Our experiment attempts to answer the age-old controversy ‘Who is the best basketball player of all time?’. Well, not really. We are going to use the NBA career stats of Michael Jordan, Kobe Bryant, and Lebron James to create a classification algorithm for each of the basketball greats. In a way, we are testing to see if we can build an algorithm to find a difference between these players stats. \n",
    "\n",
    "### Data Source\n",
    "\n",
    "We were able to get a dataset of the advanced stats of James, Jordan, and Bryant from Kaggle where the dataset was listed as being public domain.\n",
    "\n",
    "The dataset can be found [here](https://www.kaggle.com/xvivancos/michael-jordan-kobe-bryant-and-lebron-james-stats) and the Terms of Use can be found [here](https://www.kaggle.com/terms). Section 5 states that we promise to abide by \"all copyright notices, trademark rules, information, and restrictions contained in any Content you access through the Services.\" but because we have no plans to exploit this content andnin addition to most NBA data being widely available there is no ethical restrictions in using this data."
   ]
  },
  {
   "cell_type": "markdown",
   "metadata": {},
   "source": [
    "## Data Collection\n"
   ]
  },
  {
   "cell_type": "code",
   "execution_count": 2,
   "metadata": {},
   "outputs": [
    {
     "data": {
      "text/html": [
       "<div>\n",
       "<style scoped>\n",
       "    .dataframe tbody tr th:only-of-type {\n",
       "        vertical-align: middle;\n",
       "    }\n",
       "\n",
       "    .dataframe tbody tr th {\n",
       "        vertical-align: top;\n",
       "    }\n",
       "\n",
       "    .dataframe thead th {\n",
       "        text-align: right;\n",
       "    }\n",
       "</style>\n",
       "<table border=\"1\" class=\"dataframe\">\n",
       "  <thead>\n",
       "    <tr style=\"text-align: right;\">\n",
       "      <th></th>\n",
       "      <th>Season</th>\n",
       "      <th>Age</th>\n",
       "      <th>Tm</th>\n",
       "      <th>Lg</th>\n",
       "      <th>Pos</th>\n",
       "      <th>G</th>\n",
       "      <th>MP</th>\n",
       "      <th>PER</th>\n",
       "      <th>TS%</th>\n",
       "      <th>3PAr</th>\n",
       "      <th>...</th>\n",
       "      <th>OWS</th>\n",
       "      <th>DWS</th>\n",
       "      <th>WS</th>\n",
       "      <th>WS/48</th>\n",
       "      <th>OBPM</th>\n",
       "      <th>DBPM</th>\n",
       "      <th>BPM</th>\n",
       "      <th>VORP</th>\n",
       "      <th>Player</th>\n",
       "      <th>RSorPO</th>\n",
       "    </tr>\n",
       "  </thead>\n",
       "  <tbody>\n",
       "    <tr>\n",
       "      <th>0</th>\n",
       "      <td>2003-04</td>\n",
       "      <td>19</td>\n",
       "      <td>CLE</td>\n",
       "      <td>NBA</td>\n",
       "      <td>SG</td>\n",
       "      <td>79</td>\n",
       "      <td>3122</td>\n",
       "      <td>18.3</td>\n",
       "      <td>0.488</td>\n",
       "      <td>0.145</td>\n",
       "      <td>...</td>\n",
       "      <td>2.4</td>\n",
       "      <td>2.6</td>\n",
       "      <td>5.1</td>\n",
       "      <td>0.078</td>\n",
       "      <td>2.2</td>\n",
       "      <td>-0.2</td>\n",
       "      <td>1.9</td>\n",
       "      <td>3.1</td>\n",
       "      <td>Lebron James</td>\n",
       "      <td>Regular Season</td>\n",
       "    </tr>\n",
       "    <tr>\n",
       "      <th>1</th>\n",
       "      <td>2004-05</td>\n",
       "      <td>20</td>\n",
       "      <td>CLE</td>\n",
       "      <td>NBA</td>\n",
       "      <td>SF</td>\n",
       "      <td>80</td>\n",
       "      <td>3388</td>\n",
       "      <td>25.7</td>\n",
       "      <td>0.554</td>\n",
       "      <td>0.183</td>\n",
       "      <td>...</td>\n",
       "      <td>9.7</td>\n",
       "      <td>4.6</td>\n",
       "      <td>14.3</td>\n",
       "      <td>0.203</td>\n",
       "      <td>6.9</td>\n",
       "      <td>1.5</td>\n",
       "      <td>8.3</td>\n",
       "      <td>8.8</td>\n",
       "      <td>Lebron James</td>\n",
       "      <td>Regular Season</td>\n",
       "    </tr>\n",
       "    <tr>\n",
       "      <th>2</th>\n",
       "      <td>2005-06</td>\n",
       "      <td>21</td>\n",
       "      <td>CLE</td>\n",
       "      <td>NBA</td>\n",
       "      <td>SF</td>\n",
       "      <td>79</td>\n",
       "      <td>3361</td>\n",
       "      <td>28.1</td>\n",
       "      <td>0.568</td>\n",
       "      <td>0.208</td>\n",
       "      <td>...</td>\n",
       "      <td>12.0</td>\n",
       "      <td>4.3</td>\n",
       "      <td>16.3</td>\n",
       "      <td>0.232</td>\n",
       "      <td>7.9</td>\n",
       "      <td>1.4</td>\n",
       "      <td>9.3</td>\n",
       "      <td>9.5</td>\n",
       "      <td>Lebron James</td>\n",
       "      <td>Regular Season</td>\n",
       "    </tr>\n",
       "    <tr>\n",
       "      <th>3</th>\n",
       "      <td>2006-07</td>\n",
       "      <td>22</td>\n",
       "      <td>CLE</td>\n",
       "      <td>NBA</td>\n",
       "      <td>SF</td>\n",
       "      <td>78</td>\n",
       "      <td>3190</td>\n",
       "      <td>24.5</td>\n",
       "      <td>0.552</td>\n",
       "      <td>0.191</td>\n",
       "      <td>...</td>\n",
       "      <td>8.0</td>\n",
       "      <td>5.7</td>\n",
       "      <td>13.7</td>\n",
       "      <td>0.206</td>\n",
       "      <td>5.4</td>\n",
       "      <td>2.0</td>\n",
       "      <td>7.4</td>\n",
       "      <td>7.6</td>\n",
       "      <td>Lebron James</td>\n",
       "      <td>Regular Season</td>\n",
       "    </tr>\n",
       "    <tr>\n",
       "      <th>4</th>\n",
       "      <td>2007-08</td>\n",
       "      <td>23</td>\n",
       "      <td>CLE</td>\n",
       "      <td>NBA</td>\n",
       "      <td>SF</td>\n",
       "      <td>75</td>\n",
       "      <td>3027</td>\n",
       "      <td>29.1</td>\n",
       "      <td>0.568</td>\n",
       "      <td>0.219</td>\n",
       "      <td>...</td>\n",
       "      <td>10.7</td>\n",
       "      <td>4.6</td>\n",
       "      <td>15.2</td>\n",
       "      <td>0.242</td>\n",
       "      <td>9.0</td>\n",
       "      <td>2.3</td>\n",
       "      <td>11.2</td>\n",
       "      <td>10.1</td>\n",
       "      <td>Lebron James</td>\n",
       "      <td>Regular Season</td>\n",
       "    </tr>\n",
       "  </tbody>\n",
       "</table>\n",
       "<p>5 rows × 29 columns</p>\n",
       "</div>"
      ],
      "text/plain": [
       "    Season  Age   Tm   Lg Pos   G    MP   PER    TS%   3PAr  ...   OWS  DWS  \\\n",
       "0  2003-04   19  CLE  NBA  SG  79  3122  18.3  0.488  0.145  ...   2.4  2.6   \n",
       "1  2004-05   20  CLE  NBA  SF  80  3388  25.7  0.554  0.183  ...   9.7  4.6   \n",
       "2  2005-06   21  CLE  NBA  SF  79  3361  28.1  0.568  0.208  ...  12.0  4.3   \n",
       "3  2006-07   22  CLE  NBA  SF  78  3190  24.5  0.552  0.191  ...   8.0  5.7   \n",
       "4  2007-08   23  CLE  NBA  SF  75  3027  29.1  0.568  0.219  ...  10.7  4.6   \n",
       "\n",
       "     WS  WS/48  OBPM  DBPM   BPM  VORP        Player          RSorPO  \n",
       "0   5.1  0.078   2.2  -0.2   1.9   3.1  Lebron James  Regular Season  \n",
       "1  14.3  0.203   6.9   1.5   8.3   8.8  Lebron James  Regular Season  \n",
       "2  16.3  0.232   7.9   1.4   9.3   9.5  Lebron James  Regular Season  \n",
       "3  13.7  0.206   5.4   2.0   7.4   7.6  Lebron James  Regular Season  \n",
       "4  15.2  0.242   9.0   2.3  11.2  10.1  Lebron James  Regular Season  \n",
       "\n",
       "[5 rows x 29 columns]"
      ]
     },
     "execution_count": 2,
     "metadata": {},
     "output_type": "execute_result"
    }
   ],
   "source": [
    "import pandas as pd\n",
    "import numpy as np\n",
    "import matplotlib.pyplot as plt\n",
    "\n",
    "# load in the data from a saved csv file\n",
    "bball = pd.read_csv('advanced_stats.csv')\n",
    "\n",
    "# Print head to show success\n",
    "bball.head()"
   ]
  },
  {
   "cell_type": "markdown",
   "metadata": {},
   "source": [
    "## Data Preprocessing\n",
    "\n",
    "The data contains 29 columns, and __ were dropped for the follwoing reasons:\n",
    "\n",
    "* Season - a baises variables, as the machine would quickly learn what time range of each player \n",
    "\n",
    "* Age - again biases, Kobe is the only player with data at age 18 while Jordan had the longest career, playing until 40. To reserve data it was best to eliminate \n",
    "\n",
    "* Team - also a biased variable\n",
    "\n",
    "* Lg - dropped because every row says NBA, thus useless\n",
    "\n",
    "* Pos - biased variable\n",
    "\n",
    "For the following dropped variables, we consulted a basketball expert who explained how each stat is measured and what it truely says about a players performance. \n",
    "\n",
    "* OWS, DWS, WS/48 (Offensive Win Shares), (Defensive Win Shares), (Win Shares Per 48 Minutes) - The way these are calculated we felt was repetatitve of Total Win Shares and to keep all four features would be unnecessary. \n",
    "\n",
    "\n",
    "* OBPM (Offensive Box Plus/Minus), DBPM (Defensive Box Plus/Minus) - This is calcuated very similarly to WS and only the combined BPM scores was kept. \n",
    "\n",
    "* RSorPO (Regular Season or Playoffs) - Because this is a team not individual statistic it was dropped. \n",
    "\n",
    "\n",
    "| Player | Classification |\n",
    "| ----------- | ----------- |\n",
    "| Kobe Bryan | 0 |\n",
    "| Lebron James | 1 |\n",
    "| Michael Jordan | 2 | \n"
   ]
  },
  {
   "cell_type": "code",
   "execution_count": 3,
   "metadata": {},
   "outputs": [
    {
     "data": {
      "text/html": [
       "<div>\n",
       "<style scoped>\n",
       "    .dataframe tbody tr th:only-of-type {\n",
       "        vertical-align: middle;\n",
       "    }\n",
       "\n",
       "    .dataframe tbody tr th {\n",
       "        vertical-align: top;\n",
       "    }\n",
       "\n",
       "    .dataframe thead th {\n",
       "        text-align: right;\n",
       "    }\n",
       "</style>\n",
       "<table border=\"1\" class=\"dataframe\">\n",
       "  <thead>\n",
       "    <tr style=\"text-align: right;\">\n",
       "      <th></th>\n",
       "      <th>G</th>\n",
       "      <th>MP</th>\n",
       "      <th>PER</th>\n",
       "      <th>TS%</th>\n",
       "      <th>3PAr</th>\n",
       "      <th>FTr</th>\n",
       "      <th>ORB%</th>\n",
       "      <th>DRB%</th>\n",
       "      <th>TRB%</th>\n",
       "      <th>AST%</th>\n",
       "      <th>STL%</th>\n",
       "      <th>BLK%</th>\n",
       "      <th>TOV%</th>\n",
       "      <th>USG%</th>\n",
       "      <th>WS</th>\n",
       "      <th>BPM</th>\n",
       "      <th>VORP</th>\n",
       "      <th>Player</th>\n",
       "    </tr>\n",
       "  </thead>\n",
       "  <tbody>\n",
       "    <tr>\n",
       "      <th>0</th>\n",
       "      <td>79</td>\n",
       "      <td>3122</td>\n",
       "      <td>18.3</td>\n",
       "      <td>0.488</td>\n",
       "      <td>0.145</td>\n",
       "      <td>0.308</td>\n",
       "      <td>3.5</td>\n",
       "      <td>11.8</td>\n",
       "      <td>7.6</td>\n",
       "      <td>27.8</td>\n",
       "      <td>2.2</td>\n",
       "      <td>1.3</td>\n",
       "      <td>13.9</td>\n",
       "      <td>28.2</td>\n",
       "      <td>5.1</td>\n",
       "      <td>1.9</td>\n",
       "      <td>3.1</td>\n",
       "      <td>1</td>\n",
       "    </tr>\n",
       "    <tr>\n",
       "      <th>1</th>\n",
       "      <td>80</td>\n",
       "      <td>3388</td>\n",
       "      <td>25.7</td>\n",
       "      <td>0.554</td>\n",
       "      <td>0.183</td>\n",
       "      <td>0.378</td>\n",
       "      <td>3.8</td>\n",
       "      <td>17.0</td>\n",
       "      <td>10.2</td>\n",
       "      <td>32.9</td>\n",
       "      <td>2.8</td>\n",
       "      <td>1.1</td>\n",
       "      <td>11.8</td>\n",
       "      <td>29.7</td>\n",
       "      <td>14.3</td>\n",
       "      <td>8.3</td>\n",
       "      <td>8.8</td>\n",
       "      <td>1</td>\n",
       "    </tr>\n",
       "    <tr>\n",
       "      <th>2</th>\n",
       "      <td>79</td>\n",
       "      <td>3361</td>\n",
       "      <td>28.1</td>\n",
       "      <td>0.568</td>\n",
       "      <td>0.208</td>\n",
       "      <td>0.447</td>\n",
       "      <td>2.6</td>\n",
       "      <td>17.1</td>\n",
       "      <td>9.8</td>\n",
       "      <td>32.8</td>\n",
       "      <td>2.0</td>\n",
       "      <td>1.5</td>\n",
       "      <td>10.7</td>\n",
       "      <td>33.6</td>\n",
       "      <td>16.3</td>\n",
       "      <td>9.3</td>\n",
       "      <td>9.5</td>\n",
       "      <td>1</td>\n",
       "    </tr>\n",
       "    <tr>\n",
       "      <th>3</th>\n",
       "      <td>78</td>\n",
       "      <td>3190</td>\n",
       "      <td>24.5</td>\n",
       "      <td>0.552</td>\n",
       "      <td>0.191</td>\n",
       "      <td>0.432</td>\n",
       "      <td>3.0</td>\n",
       "      <td>16.6</td>\n",
       "      <td>9.6</td>\n",
       "      <td>29.1</td>\n",
       "      <td>2.1</td>\n",
       "      <td>1.3</td>\n",
       "      <td>11.5</td>\n",
       "      <td>31.0</td>\n",
       "      <td>13.7</td>\n",
       "      <td>7.4</td>\n",
       "      <td>7.6</td>\n",
       "      <td>1</td>\n",
       "    </tr>\n",
       "    <tr>\n",
       "      <th>4</th>\n",
       "      <td>75</td>\n",
       "      <td>3027</td>\n",
       "      <td>29.1</td>\n",
       "      <td>0.568</td>\n",
       "      <td>0.219</td>\n",
       "      <td>0.470</td>\n",
       "      <td>4.9</td>\n",
       "      <td>17.8</td>\n",
       "      <td>11.1</td>\n",
       "      <td>37.3</td>\n",
       "      <td>2.4</td>\n",
       "      <td>2.1</td>\n",
       "      <td>11.4</td>\n",
       "      <td>33.5</td>\n",
       "      <td>15.2</td>\n",
       "      <td>11.2</td>\n",
       "      <td>10.1</td>\n",
       "      <td>1</td>\n",
       "    </tr>\n",
       "  </tbody>\n",
       "</table>\n",
       "</div>"
      ],
      "text/plain": [
       "    G    MP   PER    TS%   3PAr    FTr  ORB%  DRB%  TRB%  AST%  STL%  BLK%  \\\n",
       "0  79  3122  18.3  0.488  0.145  0.308   3.5  11.8   7.6  27.8   2.2   1.3   \n",
       "1  80  3388  25.7  0.554  0.183  0.378   3.8  17.0  10.2  32.9   2.8   1.1   \n",
       "2  79  3361  28.1  0.568  0.208  0.447   2.6  17.1   9.8  32.8   2.0   1.5   \n",
       "3  78  3190  24.5  0.552  0.191  0.432   3.0  16.6   9.6  29.1   2.1   1.3   \n",
       "4  75  3027  29.1  0.568  0.219  0.470   4.9  17.8  11.1  37.3   2.4   2.1   \n",
       "\n",
       "   TOV%  USG%    WS   BPM  VORP  Player  \n",
       "0  13.9  28.2   5.1   1.9   3.1       1  \n",
       "1  11.8  29.7  14.3   8.3   8.8       1  \n",
       "2  10.7  33.6  16.3   9.3   9.5       1  \n",
       "3  11.5  31.0  13.7   7.4   7.6       1  \n",
       "4  11.4  33.5  15.2  11.2  10.1       1  "
      ]
     },
     "execution_count": 3,
     "metadata": {},
     "output_type": "execute_result"
    }
   ],
   "source": [
    "bball.drop(bball.iloc[:, 0:5], inplace = True, axis = 1)\n",
    "bball.drop(['OWS', 'DWS', 'WS/48', 'OBPM', 'DBPM', 'RSorPO'], axis = 1, inplace = True)\n",
    "\n",
    "\n",
    "bball.isnull().values.any()\n",
    "\n",
    "# convert classes (players) to integers \n",
    "class_mapping = {label: idx for idx, label in enumerate(np.unique(bball['Player']))}\n",
    "class_mapping\n",
    "bball['Player'] = bball['Player'].map(class_mapping)\n",
    "\n",
    "# Print head to show success\n",
    "bball.head()"
   ]
  },
  {
   "cell_type": "markdown",
   "metadata": {},
   "source": [
    "### Test Train Split\n",
    "\n",
    "**TODO: Inclde training vs test decisions**"
   ]
  },
  {
   "cell_type": "code",
   "execution_count": 4,
   "metadata": {},
   "outputs": [],
   "source": [
    "from sklearn.model_selection import train_test_split\n",
    "\n",
    "X, y = bball.iloc[:, 0:16].values, bball.iloc[:, 17].values\n",
    "\n",
    "X_train, X_test, y_train, y_test =\\\n",
    "    train_test_split(X, y, \n",
    "                     test_size=0.3, \n",
    "                     random_state=0, \n",
    "                     stratify=y)\n"
   ]
  },
  {
   "cell_type": "markdown",
   "metadata": {},
   "source": [
    "### Feature Selection\n",
    "\n",
    "**TODO: Include decision on what features to add to model**"
   ]
  },
  {
   "cell_type": "code",
   "execution_count": 5,
   "metadata": {},
   "outputs": [
    {
     "name": "stdout",
     "output_type": "stream",
     "text": [
      " 1) 3PAr                           0.163660\n",
      " 2) BPM                            0.151492\n",
      " 3) DRB%                           0.150320\n",
      " 4) TRB%                           0.140267\n",
      " 5) STL%                           0.076613\n",
      " 6) PER                            0.066969\n",
      " 7) ORB%                           0.045354\n",
      " 8) TOV%                           0.041698\n",
      " 9) AST%                           0.041419\n",
      "10) USG%                           0.034493\n",
      "11) BLK%                           0.022750\n",
      "12) FTr                            0.015986\n",
      "13) TS%                            0.015539\n",
      "14) WS                             0.013220\n",
      "15) MP                             0.010673\n",
      "16) G                              0.009546\n"
     ]
    },
    {
     "data": {
      "image/png": "[encoded data removed]",
      "text/plain": [
       "<Figure size 432x288 with 1 Axes>"
      ]
     },
     "metadata": {
      "needs_background": "light"
     },
     "output_type": "display_data"
    }
   ],
   "source": [
    "#select features using random forest\n",
    "from sklearn.ensemble import RandomForestClassifier\n",
    "\n",
    "feat_labels = bball.columns[:16]\n",
    "\n",
    "forest = RandomForestClassifier(n_estimators=500,\n",
    "                                random_state=1)\n",
    "\n",
    "forest.fit(X_train, y_train)\n",
    "importances = forest.feature_importances_\n",
    "\n",
    "indices = np.argsort(importances)[::-1]\n",
    "\n",
    "for f in range(X_train.shape[1]):\n",
    "    print(\"%2d) %-*s %f\" % (f + 1, 30, \n",
    "                            feat_labels[indices[f]], \n",
    "                            importances[indices[f]]))\n",
    "\n",
    "plt.title('Feature Importance')\n",
    "plt.bar(range(X_train.shape[1]), \n",
    "        importances[indices],\n",
    "        align='center')\n",
    "\n",
    "plt.xticks(range(X_train.shape[1]), \n",
    "           feat_labels[indices], rotation=90)\n",
    "plt.xlim([-1, X_train.shape[1]])\n",
    "plt.tight_layout()\n",
    "\n",
    "plt.show()"
   ]
  },
  {
   "cell_type": "code",
   "execution_count": 25,
   "metadata": {},
   "outputs": [
    {
     "name": "stdout",
     "output_type": "stream",
     "text": [
      "Player\n",
      "0    0.213714\n",
      "1    0.220241\n",
      "2    0.079571\n",
      "Name: 3PAr, dtype: float64\n",
      "Player\n",
      "0     3.037143\n",
      "1    10.062069\n",
      "2     8.653571\n",
      "Name: BPM, dtype: float64\n",
      "Player\n",
      "0    12.311429\n",
      "1    19.486207\n",
      "2    13.950000\n",
      "Name: DRB%, dtype: float64\n",
      "Player\n",
      "0     7.722857\n",
      "1    11.858621\n",
      "2     9.325000\n",
      "Name: TRB%, dtype: float64\n"
     ]
    }
   ],
   "source": [
    "print(bball.groupby(['Player'])['3PAr'].mean())\n",
    "print(bball.groupby(['Player'])['BPM'].mean())\n",
    "print(bball.groupby(['Player'])['DRB%'].mean())\n",
    "print(bball.groupby(['Player'])['TRB%'].mean())"
   ]
  },
  {
   "cell_type": "code",
   "execution_count": 6,
   "metadata": {},
   "outputs": [
    {
     "name": "stdout",
     "output_type": "stream",
     "text": [
      "Number of features that meet this threshold criterion: 4\n",
      " 1) 3PAr                           0.163660\n",
      " 2) BPM                            0.151492\n",
      " 3) DRB%                           0.150320\n",
      " 4) TRB%                           0.140267\n",
      "[4, 15, 7, 8]\n"
     ]
    }
   ],
   "source": [
    "from sklearn.feature_selection import SelectFromModel\n",
    "\n",
    "sfm = SelectFromModel(forest, threshold=0.1, prefit=True)\n",
    "X_selected = sfm.transform(X_train)\n",
    "print('Number of features that meet this threshold criterion:', \n",
    "      X_selected.shape[1])\n",
    "\n",
    "features = []\n",
    "for f in range(X_selected.shape[1]):\n",
    "    print(\"%2d) %-*s %f\" % (f + 1, 30, \n",
    "                            feat_labels[indices[f]], \n",
    "                            importances[indices[f]]))\n",
    "    # Keek track of feature indices\n",
    "    features.append(indices[f])\n",
    "    \n",
    "# TODO: Delete later\n",
    "print(features)"
   ]
  },
  {
   "cell_type": "markdown",
   "metadata": {},
   "source": [
    "## Model Selection\n",
    "\n",
    "### Classification Algorithm 1: K Nearest Neighbor\n"
   ]
  },
  {
   "cell_type": "code",
   "execution_count": 7,
   "metadata": {},
   "outputs": [
    {
     "name": "stdout",
     "output_type": "stream",
     "text": [
      "Training accuracy: 0.5\n",
      "Test accuracy: 0.42857142857142855\n"
     ]
    }
   ],
   "source": [
    "import matplotlib.pyplot as plt\n",
    "from sklearn.neighbors import KNeighborsClassifier\n",
    "\n",
    "knn = KNeighborsClassifier(n_neighbors=5)\n",
    "\n",
    "# Original training set accuracy\n",
    "knn.fit(X_train, y_train)\n",
    "print('Training accuracy:', knn.score(X_train, y_train))\n",
    "print('Test accuracy:', knn.score(X_test, y_test))"
   ]
  },
  {
   "cell_type": "code",
   "execution_count": 8,
   "metadata": {},
   "outputs": [
    {
     "name": "stdout",
     "output_type": "stream",
     "text": [
      "Training accuracy: 0.875\n",
      "Test accuracy: 0.7857142857142857\n"
     ]
    }
   ],
   "source": [
    "# Accuracy with __ most relevant features\n",
    "knn.fit(X_train[:, features], y_train)\n",
    "print('Training accuracy:', knn.score(X_train[:, features], y_train))\n",
    "print('Test accuracy:', knn.score(X_test[:, features], y_test))"
   ]
  },
  {
   "cell_type": "markdown",
   "metadata": {},
   "source": [
    "### Classification Algorithm 2: Multiclass Logistic Regression"
   ]
  },
  {
   "cell_type": "code",
   "execution_count": 9,
   "metadata": {},
   "outputs": [],
   "source": [
    "from matplotlib.colors import ListedColormap\n",
    "\n",
    "# Function taken from examples/ch05\n",
    "def plot_decision_regions(X, y, classifier, resolution=0.02):\n",
    "\n",
    "    # setup marker generator and color map\n",
    "    markers = ('s', 'x', 'o', '^', 'v')\n",
    "    colors = ('red', 'blue', 'lightgreen', 'gray', 'cyan')\n",
    "    labels = ('Bryant', 'James', 'Jordan')\n",
    "    cmap = ListedColormap(colors[:len(np.unique(y))])\n",
    "\n",
    "    # plot the decision surface\n",
    "    x1_min, x1_max = X[:, 0].min() - 1, X[:, 0].max() + 1\n",
    "    x2_min, x2_max = X[:, 1].min() - 1, X[:, 1].max() + 1\n",
    "    xx1, xx2 = np.meshgrid(np.arange(x1_min, x1_max, resolution),\n",
    "                           np.arange(x2_min, x2_max, resolution))\n",
    "    Z = classifier.predict(np.array([xx1.ravel(), xx2.ravel()]).T)\n",
    "    Z = Z.reshape(xx1.shape)\n",
    "    plt.contourf(xx1, xx2, Z, alpha=0.4, cmap=cmap)\n",
    "    plt.xlim(xx1.min(), xx1.max())\n",
    "    plt.ylim(xx2.min(), xx2.max())\n",
    "\n",
    "    # plot examples by class\n",
    "    for idx, cl in enumerate(np.unique(y)):\n",
    "        plt.scatter(x=X[y == cl, 0], \n",
    "                    y=X[y == cl, 1],\n",
    "                    alpha=0.6, \n",
    "                    color=cmap(idx),\n",
    "                    edgecolor='black',\n",
    "                    marker=markers[idx], \n",
    "                    label=labels[cl])"
   ]
  },
  {
   "cell_type": "code",
   "execution_count": 10,
   "metadata": {},
   "outputs": [
    {
     "name": "stdout",
     "output_type": "stream",
     "text": [
      "0.71875\n"
     ]
    },
    {
     "data": {
      "text/plain": [
       "0.7142857142857143"
      ]
     },
     "execution_count": 10,
     "metadata": {},
     "output_type": "execute_result"
    }
   ],
   "source": [
    "from sklearn.decomposition import PCA\n",
    "from sklearn.linear_model import LogisticRegression\n",
    "from matplotlib.colors import ListedColormap\n",
    "\n",
    "# Use PCA to reduce the dimension of X\n",
    "pca = PCA(n_components=2)\n",
    "X_train_pca = pca.fit_transform(X_train)\n",
    "X_test_pca = pca.transform(X_test)\n",
    "\n",
    "\n",
    "lr = LogisticRegression(multi_class='ovr', random_state=1, solver='lbfgs')\n",
    "lr.fit(X_train_pca, y_train)\n",
    "\n",
    "print(lr.score(X_train_pca, y_train)) #training accuracy \n",
    "lr.score(X_test_pca, y_test) #test accuracy \n",
    "\n",
    "# Plot Train\n",
    "# plot_decision_regions(X_train_pca, y_train, classifier=lr)\n",
    "# plt.xlabel('PC 1')\n",
    "# plt.ylabel('PC 2')\n",
    "# plt.legend(loc='lower left')\n",
    "# plt.tight_layout()\n",
    "# plt.show()"
   ]
  },
  {
   "cell_type": "code",
   "execution_count": null,
   "metadata": {},
   "outputs": [],
   "source": [
    "# # Plot Test \n",
    "# plot_decision_regions(X_test_pca, y_test, classifier=lr)\n",
    "# plt.xlabel('PC 1')\n",
    "# plt.ylabel('PC 2')\n",
    "# plt.legend(loc='lower left')\n",
    "# plt.tight_layout()\n",
    "# plt.show()"
   ]
  },
  {
   "cell_type": "markdown",
   "metadata": {},
   "source": [
    "### Random Forest"
   ]
  },
  {
   "cell_type": "code",
   "execution_count": 16,
   "metadata": {},
   "outputs": [
    {
     "name": "stdout",
     "output_type": "stream",
     "text": [
      "1.0\n",
      "0.9642857142857143\n"
     ]
    }
   ],
   "source": [
    "from sklearn.ensemble import RandomForestClassifier\n",
    "\n",
    "forest = RandomForestClassifier(criterion='gini',\n",
    "                                n_estimators=16, \n",
    "                                random_state=1,\n",
    "                                n_jobs=2)\n",
    "rf = forest.fit(X_train, y_train)\n",
    "\n",
    "print(rf.score(X_train, y_train)) #training accuracy\n",
    "print(rf.score(X_test, y_test)) #test accuracy"
   ]
  },
  {
   "cell_type": "code",
   "execution_count": 17,
   "metadata": {},
   "outputs": [
    {
     "name": "stdout",
     "output_type": "stream",
     "text": [
      "1.0\n",
      "0.9285714285714286\n"
     ]
    }
   ],
   "source": [
    "rf_sub = forest.fit(X_train[:, features], y_train)\n",
    "\n",
    "print(rf_sub.score(X_train[:, features], y_train)) #training accuracy\n",
    "print(rf_sub.score(X_test[:, features], y_test)) #test accuracy"
   ]
  },
  {
   "cell_type": "markdown",
   "metadata": {},
   "source": [
    "## Compare the Models \n",
    "   ### using confusion matrixes "
   ]
  },
  {
   "cell_type": "code",
   "execution_count": 13,
   "metadata": {},
   "outputs": [
    {
     "name": "stdout",
     "output_type": "stream",
     "text": [
      "K-nearest Neighbor method:\n",
      "Training accuracy: 0.875\n",
      "Test accuracy: 0.7857142857142857\n",
      "Precision: 0.852\n",
      "Recall: 0.766\n",
      "F1: 0.775\n"
     ]
    }
   ],
   "source": [
    "from sklearn.metrics import confusion_matrix\n",
    "from sklearn.metrics import precision_score, recall_score, f1_score\n",
    "\n",
    "#KNN \n",
    "print('K-nearest Neighbor method:')\n",
    "print('')\n",
    "# Accuracy with __ most relevant features\n",
    "knn.fit(X_train[:, features], y_train)\n",
    "print('Training accuracy:', knn.score(X_train[:, features], y_train))\n",
    "print('Test accuracy:', knn.score(X_test[:, features], y_test))\n",
    "\n",
    "y_pred = knn.predict(X_test[:, features])\n",
    "\n",
    "print('Precision: %.3f' % precision_score(y_true=y_test, y_pred=y_pred, average = 'macro'))\n",
    "print('Recall: %.3f' % recall_score(y_true=y_test, y_pred=y_pred, average = 'macro'))\n",
    "print('F1: %.3f' % f1_score(y_true=y_test, y_pred=y_pred, average = 'macro'))"
   ]
  },
  {
   "cell_type": "code",
   "execution_count": 15,
   "metadata": {},
   "outputs": [
    {
     "name": "stdout",
     "output_type": "stream",
     "text": [
      "Logisitic Regression:\n",
      "\n",
      "Training accuracy: 0.71875\n",
      "Test accuracy: 0.7142857142857143\n",
      "Precision: 0.711\n",
      "Recall: 0.683\n",
      "F1: 0.658\n"
     ]
    }
   ],
   "source": [
    "#Logistic Regression\n",
    "print('Logisitic Regression:')\n",
    "print('')\n",
    "# Accuracy with __ most relevant features\n",
    "lr.fit(X_train_pca, y_train)\n",
    "print('Training accuracy:', lr.score(X_train_pca, y_train))\n",
    "print('Test accuracy:', lr.score(X_test_pca, y_test))\n",
    "\n",
    "y_pred = lr.predict(X_test_pca)\n",
    "\n",
    "print('Precision: %.3f' % precision_score(y_true=y_test, y_pred=y_pred, average = 'macro'))\n",
    "print('Recall: %.3f' % recall_score(y_true=y_test, y_pred=y_pred, average = 'macro'))\n",
    "print('F1: %.3f' % f1_score(y_true=y_test, y_pred=y_pred, average = 'macro'))"
   ]
  },
  {
   "cell_type": "code",
   "execution_count": 20,
   "metadata": {},
   "outputs": [
    {
     "name": "stdout",
     "output_type": "stream",
     "text": [
      "Random Forest\n",
      "\n",
      "Training Accuracy: 1.0\n",
      "Test accuracy: 0.9642857142857143\n",
      "Precision: 0.972\n",
      "Recall: 0.963\n",
      "F1: 0.966\n",
      "RANDOM FOREST WAS THE MOST SUCCESFUL MODEL FOR THIS PROBLEM\n"
     ]
    }
   ],
   "source": [
    "#Random Forest\n",
    "\n",
    "print('Random Forest')\n",
    "print('')\n",
    "rf = forest.fit(X_train, y_train)\n",
    "\n",
    "print('Training Accuracy:', rf.score(X_train, y_train)) #training accuracy\n",
    "print('Test accuracy:', rf.score(X_test, y_test)) #test accuracy\n",
    "\n",
    "y_pred = rf.predict(X_test)\n",
    "\n",
    "print('Precision: %.3f' % precision_score(y_true=y_test, y_pred=y_pred, average = 'macro'))\n",
    "print('Recall: %.3f' % recall_score(y_true=y_test, y_pred=y_pred, average = 'macro'))\n",
    "print('F1: %.3f' % f1_score(y_true=y_test, y_pred=y_pred, average = 'macro'))\n",
    "\n",
    "print('RANDOM FOREST WAS THE MOST SUCCESFUL MODEL FOR THIS PROBLEM')"
   ]
  },
  {
   "cell_type": "markdown",
   "metadata": {},
   "source": [
    "## Experiment Summary\n",
    "\n",
    "In the course of building our model, random forest was the most successful algorithm for this problem. Looking at the data post-hoc this makes sense because our classes do not have a defined linear divide. Using random forest, we were able to accurately model the differences between Kobe Bryant, Michael Jordan, and Lebron James. The accuracy of this model actaully exceeded our expectations. \n",
    "On a side note we took the 4 most important features (the features that meet the .10 threshold of feature importancce), and looked at each player's career average in those stats and LeBron James outperformed both Bryant and Jordan in all four metrics. "
   ]
  },
  {
   "cell_type": "markdown",
   "metadata": {},
   "source": [
    "Finish summary (idk what else there is to say?) More in depth about the models maybe \n",
    "We need say something about our train test split I think. \n",
    "Just reread the instructions and see if anything is missing?"
   ]
  }
 ],
 "metadata": {
  "kernelspec": {
   "display_name": "Python 3",
   "language": "python",
   "name": "python3"
  },
  "language_info": {
   "codemirror_mode": {
    "name": "ipython",
    "version": 3
   },
   "file_extension": ".py",
   "mimetype": "text/x-python",
   "name": "python",
   "nbconvert_exporter": "python",
   "pygments_lexer": "ipython3",
   "version": "3.7.6"
  }
 },
 "nbformat": 4,
 "nbformat_minor": 4
}
